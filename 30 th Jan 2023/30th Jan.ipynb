{
 "cells": [
  {
   "cell_type": "markdown",
   "id": "fa9306e8-ec17-437b-a0b9-8fce648fb419",
   "metadata": {},
   "source": [
    "# Assignment 2\n",
    "#### 30th Jan 2023"
   ]
  },
  {
   "cell_type": "markdown",
   "id": "22ccbaea-61f5-4e6a-a058-65e616a428a9",
   "metadata": {
    "tags": []
   },
   "source": [
    "### 1. Write a program to accept percentage fron the user and display the grade according to the following criteria:\n",
    "\n",
    "|Marks         |Grade|\n",
    "|--------------|:--------:|\n",
    "|>90           | A|\n",
    "|>80 and <= 90 | B|\n",
    "|>=60 and <= 80| C|\n",
    "|below 60      | D|\n"
   ]
  },
  {
   "cell_type": "code",
   "execution_count": 21,
   "id": "3551c7f9-df1e-47cc-be2f-4877a9eb051b",
   "metadata": {},
   "outputs": [
    {
     "name": "stdin",
     "output_type": "stream",
     "text": [
      "Enter your percentage:  65.32\n"
     ]
    },
    {
     "name": "stdout",
     "output_type": "stream",
     "text": [
      "Grade Received:  C\n"
     ]
    }
   ],
   "source": [
    "percentage = float(input(\"Enter your percentage: \"))\n",
    "grade = \"\"\n",
    "\n",
    "if percentage > 90:\n",
    "    grade = \"A\"\n",
    "elif percentage > 80 and percentage <= 90:\n",
    "    grade = \"B\"\n",
    "elif percentage >= 60 and percentage <=80:\n",
    "    grade = \"C\"\n",
    "else:\n",
    "    grade = \"D\"\n",
    "    \n",
    "print(\"Grade Received: \", grade)"
   ]
  },
  {
   "cell_type": "code",
   "execution_count": null,
   "id": "855d41b2-fc20-449b-8809-5359eada1f2b",
   "metadata": {},
   "outputs": [],
   "source": []
  },
  {
   "cell_type": "markdown",
   "id": "48c68a5b-2094-4be0-92eb-6977906cb2de",
   "metadata": {},
   "source": [
    "### 2. Write a program to accept the cost price of a bike and display the road tax to be paid according to the following criteria:\n",
    "\n",
    "|Tax       |Cost Price|\n",
    "|--------------|:--------:|\n",
    "|15%           | > 1,00,000|\n",
    "|10% | > 50,000 and <= 1,00,000|\n",
    "|5% | <= 50,000|\n",
    " "
   ]
  },
  {
   "cell_type": "code",
   "execution_count": 28,
   "id": "e290277f-a045-43b4-8f15-48ae09dd8b3b",
   "metadata": {},
   "outputs": [
    {
     "name": "stdin",
     "output_type": "stream",
     "text": [
      "Enter the cost price:  55000\n"
     ]
    },
    {
     "name": "stdout",
     "output_type": "stream",
     "text": [
      "Road tax to be paid is : ₹ 5500.0\n"
     ]
    }
   ],
   "source": [
    "cost_price = float(input(\"Enter the cost price: \"))\n",
    "road_tax = 0\n",
    "\n",
    "if cost_price > 1_00_000:\n",
    "    road_tax = 0.15*(cost_price)\n",
    "elif cost_price > 50_000 and cost_price <= 1_00_000:\n",
    "    road_tax = 0.10*(cost_price)\n",
    "else:\n",
    "    road_tax = 0.5*(cost_price)\n",
    "    \n",
    "print(\"Road tax to be paid is : ₹\", road_tax)"
   ]
  },
  {
   "cell_type": "code",
   "execution_count": null,
   "id": "f106bc48-621f-442f-b7c1-f9d1d12ac15a",
   "metadata": {},
   "outputs": [],
   "source": []
  },
  {
   "cell_type": "markdown",
   "id": "c9babac9-73fa-4ae5-ab65-563f9e4bd2e0",
   "metadata": {},
   "source": [
    "### 3. Accept any city from user and display monuments of that city\n",
    "\n",
    "| **City** | **Monument** |\n",
    "|----------|--------------|\n",
    "| Delhi    | Red Fort     |\n",
    "| Agra     | Taj Mahal    |\n",
    "| Jaipur   | Jai Mahal    |"
   ]
  },
  {
   "cell_type": "code",
   "execution_count": 11,
   "id": "0a9be0fa-0a0c-420c-ac93-70592a4011c9",
   "metadata": {},
   "outputs": [
    {
     "name": "stdin",
     "output_type": "stream",
     "text": [
      "Enter the city name:  agra\n"
     ]
    },
    {
     "name": "stdout",
     "output_type": "stream",
     "text": [
      "Monuments at Agra: Taj Mahal\n"
     ]
    }
   ],
   "source": [
    "# instead of long if-else statements, using map is efficient here\n",
    "city_monuments = {\"Delhi\": \"Red Fort\", \"Agra\": \"Taj Mahal\", \"Jaipur\": \"Jai Mahal\"}\n",
    "\n",
    "city_name = input(\"Enter the city name: \").capitalize()\n",
    "city_exist = False\n",
    "\n",
    "for i in city_monuments.keys():\n",
    "    if i == city_name:\n",
    "        city_exist = True\n",
    "        \n",
    "if city_exist:\n",
    "    print(f\"Monuments at {city_name}: {city_monuments[city_name]}\")\n",
    "else:\n",
    "    print(\"City not found in the database\")"
   ]
  },
  {
   "cell_type": "code",
   "execution_count": null,
   "id": "323aa231-497c-4ed8-b858-8abf683e7744",
   "metadata": {},
   "outputs": [],
   "source": []
  },
  {
   "cell_type": "markdown",
   "id": "05712963-c279-48fe-8957-5d869fc3caae",
   "metadata": {
    "tags": []
   },
   "source": [
    "### 4. Check how many times a given number can be divided by 3 before it is less than or equal to 10"
   ]
  },
  {
   "cell_type": "code",
   "execution_count": 14,
   "id": "3969f269-f17f-466d-bce5-20bfe84f9780",
   "metadata": {},
   "outputs": [
    {
     "name": "stdin",
     "output_type": "stream",
     "text": [
      "Input the number:  18\n"
     ]
    },
    {
     "name": "stdout",
     "output_type": "stream",
     "text": [
      "Number of times it was divisible by 3 is: 1\n"
     ]
    }
   ],
   "source": [
    "user_input = int(input(\"Input the number: \"))\n",
    "count = 0\n",
    "\n",
    "while user_input >= 10:\n",
    "    if user_input % 3 == 0:\n",
    "        count += 1\n",
    "        user_input = user_input/3\n",
    "    else:\n",
    "        break\n",
    "\n",
    "print(f\"Number of times it was divisible by 3 is: {count}\")"
   ]
  },
  {
   "cell_type": "code",
   "execution_count": null,
   "id": "9beb0690-56e7-48e7-9ecf-ba2aa99c3137",
   "metadata": {},
   "outputs": [],
   "source": []
  },
  {
   "cell_type": "markdown",
   "id": "58524894-0260-4a4a-add4-08499dbac765",
   "metadata": {},
   "source": [
    "### 5. Why and When to use while loop in Python give a detailed description with example"
   ]
  },
  {
   "cell_type": "raw",
   "id": "456df3ba-133c-4b1d-b774-74e487f6755a",
   "metadata": {},
   "source": [
    "In Python, the \"while\" loop is used to repeatedly execute a block of code as long as a given condition is True. The loop will continue to run until the condition becomes False.\n",
    "\n",
    "Example:\n",
    "Suppose you want to sum all the positive integers less than 100 that are divisible by 3. You can use the following code to accomplish this"
   ]
  },
  {
   "cell_type": "code",
   "execution_count": 16,
   "id": "019c6b57-c749-47dc-8cfa-13023a5d8f6a",
   "metadata": {},
   "outputs": [
    {
     "name": "stdout",
     "output_type": "stream",
     "text": [
      "The sum is: 1683\n"
     ]
    }
   ],
   "source": [
    "sum = 0\n",
    "i = 3\n",
    "while i < 100:\n",
    "    sum += i\n",
    "    i += 3\n",
    "print(\"The sum is:\", sum)"
   ]
  },
  {
   "cell_type": "raw",
   "id": "037ddaf0-26bf-4923-923f-603411c94761",
   "metadata": {},
   "source": [
    "In this example, the while loop runs as long as i < 100. On each iteration, the value of i is added to sum and then i is incremented by 3. The loop continues until i is no longer less than 100.\n",
    "\n",
    "The \"while\" loop is useful when you don't know beforehand how many times you need to execute a block of code. It allows you to repeat a block of code until a certain condition is met.\n",
    "\n",
    "It's important to make sure that the condition in a \"while\" loop eventually becomes False, otherwise the loop will run forever and cause an infinite loop."
   ]
  },
  {
   "cell_type": "code",
   "execution_count": null,
   "id": "06df3678-4247-4b70-a2f1-0a04bf6017d7",
   "metadata": {},
   "outputs": [],
   "source": []
  },
  {
   "cell_type": "markdown",
   "id": "3d38c072-4da7-404d-8d7f-5ba3474f56c5",
   "metadata": {},
   "source": [
    "### 6. Use nested while loop to print 3 different pattern"
   ]
  },
  {
   "cell_type": "code",
   "execution_count": 25,
   "id": "6d159760-27a6-4536-98a8-ff2771478865",
   "metadata": {},
   "outputs": [
    {
     "name": "stdout",
     "output_type": "stream",
     "text": [
      "* \n",
      "* * \n",
      "* * * \n",
      "* * * * \n",
      "* * * * * \n"
     ]
    }
   ],
   "source": [
    "# Pattern 1\n",
    "n = 5\n",
    " \n",
    "i = 1\n",
    "while i <= n :\n",
    "    j = 1\n",
    "    while j <= i:\n",
    "        print(\"*\", end = \" \")\n",
    "        j += 1\n",
    "    print()\n",
    "    i += 1"
   ]
  },
  {
   "cell_type": "code",
   "execution_count": 23,
   "id": "ba0534c7-8e7a-4572-af32-4c82e10a1fc2",
   "metadata": {},
   "outputs": [
    {
     "name": "stdout",
     "output_type": "stream",
     "text": [
      "* * * * * \n",
      "* * * * \n",
      "* * * \n",
      "* * \n",
      "* \n"
     ]
    }
   ],
   "source": [
    "# Pattern 2\n",
    "n = 5\n",
    " \n",
    "i = 1\n",
    "while i <= n :\n",
    "    j = n\n",
    "    while j >= i:\n",
    "        print(\"*\", end = \" \")\n",
    "        j -= 1\n",
    "    print()\n",
    "    i += 1"
   ]
  },
  {
   "cell_type": "code",
   "execution_count": 26,
   "id": "391bd413-a5c1-4b19-b52c-8b91e7f4be28",
   "metadata": {},
   "outputs": [
    {
     "name": "stdout",
     "output_type": "stream",
     "text": [
      "  *\n",
      " ***\n",
      "*****\n",
      " ***\n",
      "  *\n"
     ]
    }
   ],
   "source": [
    "# Pattern 3\n",
    "n = 5\n",
    "i = 1\n",
    "while i <= (n + 1) // 2:\n",
    "    j = 1\n",
    "    k = 1\n",
    "    while k <= ((n + 1) // 2 - i):\n",
    "        print(\" \", end=\"\")\n",
    "        k += 1\n",
    "    while j <= (2 * i - 1):\n",
    "        print(\"*\", end=\"\")\n",
    "        j += 1\n",
    "    print(\"\")\n",
    "    i += 1\n",
    "\n",
    "i = (n - 1) // 2\n",
    "while i >= 1:\n",
    "    j = 1\n",
    "    k = 1\n",
    "    while k <= ((n + 1) // 2 - i):\n",
    "        print(\" \", end=\"\")\n",
    "        k += 1\n",
    "    while j <= (2 * i - 1):\n",
    "        print(\"*\", end=\"\")\n",
    "        j += 1\n",
    "    print(\"\")\n",
    "    i -= 1\n"
   ]
  },
  {
   "cell_type": "code",
   "execution_count": null,
   "id": "1e65d63c-30c9-46d1-9af6-1ad5f0bd46e3",
   "metadata": {},
   "outputs": [],
   "source": []
  },
  {
   "cell_type": "markdown",
   "id": "30ebfa4c-35cd-4daf-ba79-dfde1de500bb",
   "metadata": {},
   "source": [
    "### 7. Reverse a while loop to display numbers from 10 to 1"
   ]
  },
  {
   "cell_type": "code",
   "execution_count": 18,
   "id": "5e05decc-cddc-4c15-b905-edee85fc2ae0",
   "metadata": {},
   "outputs": [
    {
     "name": "stdout",
     "output_type": "stream",
     "text": [
      "10\n",
      "9\n",
      "8\n",
      "7\n",
      "6\n",
      "5\n",
      "4\n",
      "3\n",
      "2\n",
      "1\n"
     ]
    }
   ],
   "source": [
    "counter = 10\n",
    "while counter > 0:\n",
    "    print(counter)\n",
    "    counter -= 1"
   ]
  },
  {
   "cell_type": "code",
   "execution_count": null,
   "id": "6b196de3-b532-4d26-b82d-52ea9cad5c19",
   "metadata": {},
   "outputs": [],
   "source": []
  },
  {
   "cell_type": "markdown",
   "id": "8409d95c-3255-4274-83fc-fe8c175fd990",
   "metadata": {},
   "source": [
    "### 8. Reverse a while loop to display numbers from 10 to 1"
   ]
  },
  {
   "cell_type": "code",
   "execution_count": 20,
   "id": "a4cf4c40-3090-4e4c-b4fe-885c49e87ee8",
   "metadata": {},
   "outputs": [
    {
     "name": "stdout",
     "output_type": "stream",
     "text": [
      "10\n",
      "9\n",
      "8\n",
      "7\n",
      "6\n",
      "5\n",
      "4\n",
      "3\n",
      "2\n",
      "1\n"
     ]
    }
   ],
   "source": [
    "counter = 0\n",
    "while counter < 10:\n",
    "    print(10 - counter)\n",
    "    counter += 1"
   ]
  },
  {
   "cell_type": "code",
   "execution_count": null,
   "id": "e52ee787-4974-45d7-83b7-0d9d423dc73b",
   "metadata": {},
   "outputs": [],
   "source": []
  }
 ],
 "metadata": {
  "kernelspec": {
   "display_name": "Python 3 (ipykernel)",
   "language": "python",
   "name": "python3"
  },
  "language_info": {
   "codemirror_mode": {
    "name": "ipython",
    "version": 3
   },
   "file_extension": ".py",
   "mimetype": "text/x-python",
   "name": "python",
   "nbconvert_exporter": "python",
   "pygments_lexer": "ipython3",
   "version": "3.10.8"
  }
 },
 "nbformat": 4,
 "nbformat_minor": 5
}
