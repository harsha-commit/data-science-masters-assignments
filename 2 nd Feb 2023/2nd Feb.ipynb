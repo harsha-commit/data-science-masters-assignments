{
 "cells": [
  {
   "cell_type": "markdown",
   "id": "28232754-c4bd-4ab3-91ac-909f823463b4",
   "metadata": {},
   "source": [
    "### 1. Explain with an example each when to use a for loop and a while loop."
   ]
  },
  {
   "cell_type": "raw",
   "id": "9ee2f5c0-4fd5-4746-ac96-b5fdee2a623e",
   "metadata": {},
   "source": [
    "In Python, for loops and while loops are both used to repeatedly execute a block of code. The choice between the two depends on the specific requirements of your code.\n",
    "\n",
    "for loop:\n",
    "A for loop is used when you have a definite number of iterations to make. You can iterate over a sequence, like a list, tuple, string, or range. For example, if you want to print the elements of a list:"
   ]
  },
  {
   "cell_type": "code",
   "execution_count": 43,
   "id": "27ad4e95-cbec-46bf-a554-3a1c89581d76",
   "metadata": {},
   "outputs": [
    {
     "name": "stdout",
     "output_type": "stream",
     "text": [
      "1\n",
      "2\n",
      "3\n",
      "4\n",
      "5\n"
     ]
    }
   ],
   "source": [
    "my_list = [1, 2, 3, 4, 5]\n",
    "for num in my_list:\n",
    "    print(num)"
   ]
  },
  {
   "cell_type": "raw",
   "id": "d53418fa-fabc-479f-a07c-720aa4f916d8",
   "metadata": {},
   "source": [
    "while loop:\n",
    "A while loop is used when you don't know the number of iterations beforehand, and the loop continues to run until a certain condition is met. For example, if you want to print numbers from 1 to 5:"
   ]
  },
  {
   "cell_type": "code",
   "execution_count": 44,
   "id": "9e99d206-62d9-4b82-a296-45ece4da783e",
   "metadata": {},
   "outputs": [
    {
     "name": "stdout",
     "output_type": "stream",
     "text": [
      "1\n",
      "2\n",
      "3\n",
      "4\n",
      "5\n"
     ]
    }
   ],
   "source": [
    "num = 1\n",
    "while num <= 5:\n",
    "    print(num)\n",
    "    num += 1"
   ]
  },
  {
   "cell_type": "raw",
   "id": "28665341-903d-4ac1-a40d-8d336acb77c7",
   "metadata": {},
   "source": [
    "In general, you should use a for loop when you have a definite number of iterations to make, and a while loop when the number of iterations is not known beforehand."
   ]
  },
  {
   "cell_type": "code",
   "execution_count": null,
   "id": "8ef5643d-3508-4e35-97b8-fb217bbc6a5f",
   "metadata": {},
   "outputs": [],
   "source": []
  },
  {
   "cell_type": "markdown",
   "id": "c1b0242a-8ff4-47e0-993a-a45e37c21c44",
   "metadata": {},
   "source": [
    "### 2. Write a Python progam to print the sum and product of the first 10 natural numbers using for and while loop"
   ]
  },
  {
   "cell_type": "code",
   "execution_count": 10,
   "id": "58d4fe76-fac6-4a61-b890-b13124b37aeb",
   "metadata": {},
   "outputs": [
    {
     "name": "stdout",
     "output_type": "stream",
     "text": [
      "Sum and Product of first 10 natural numbers, using For loop: 55, 3628800\n"
     ]
    }
   ],
   "source": [
    "sum_numbers = 0\n",
    "product_numbers = 1\n",
    "\n",
    "for i in range(1, 10+1):\n",
    "    sum_numbers += i\n",
    "    product_numbers *= i\n",
    "    \n",
    "print(f\"Sum and Product of first 10 natural numbers, using For loop: {sum_numbers}, {product_numbers}\")"
   ]
  },
  {
   "cell_type": "code",
   "execution_count": 11,
   "id": "f4310af6-d7a4-4c97-ae98-9c0c914331d4",
   "metadata": {},
   "outputs": [
    {
     "name": "stdout",
     "output_type": "stream",
     "text": [
      "Sum and Product of first 10 natural numbers, using While loop: 55, 3628800\n"
     ]
    }
   ],
   "source": [
    "sum_numbers = 0\n",
    "product_numbers = 1\n",
    "\n",
    "counter = 1\n",
    "\n",
    "while counter <= 10:\n",
    "    sum_numbers += counter\n",
    "    product_numbers *= counter\n",
    "    counter += 1\n",
    "\n",
    "print(f\"Sum and Product of first 10 natural numbers, using While loop: {sum_numbers}, {product_numbers}\")"
   ]
  },
  {
   "cell_type": "code",
   "execution_count": null,
   "id": "64d859ca-2f1a-4015-b9c1-d049f683a876",
   "metadata": {},
   "outputs": [],
   "source": []
  },
  {
   "cell_type": "markdown",
   "id": "56980bd1-a131-48c1-b4ad-63574f9bb75d",
   "metadata": {},
   "source": [
    "### 3.Create a python program to compute the electricity bill for a household.\n",
    "#### The per-unit charges in rupees are as follows: \n",
    "* For the first 100 units, the user will be charged Rs. 4.5 per unit, \n",
    "* for the next 100 units, the user will be charged Rs. 6 per unit, \n",
    "* for the next 100 units, the user will be charged Rs. 10 per unit, \n",
    "* After 300 units and above the user will be charged Rs. 20 per unit.\n",
    "#### You are required to take the units of electricity consumed in a month from the user as input.\n",
    "#### Your program must pass this test case: when the unit of electricity consumed by the user in a month is 310, the total electricity bill should be 2250.\n"
   ]
  },
  {
   "cell_type": "code",
   "execution_count": 13,
   "id": "fc06316c-88f6-4477-bb23-659e8a1b1818",
   "metadata": {},
   "outputs": [
    {
     "name": "stdin",
     "output_type": "stream",
     "text": [
      "Enter the units of electricity consumed:  310\n"
     ]
    },
    {
     "name": "stdout",
     "output_type": "stream",
     "text": [
      "Total electricity bill: 2250.0\n"
     ]
    }
   ],
   "source": [
    "units_of_electricity = int(input(\"Enter the units of electricity consumed: \"))\n",
    "\n",
    "units = 0\n",
    "total_cost = 0\n",
    "\n",
    "while units < units_of_electricity:\n",
    "    units += 1\n",
    "    if units <= 100:\n",
    "        total_cost += 4.5\n",
    "    elif units <= 200:\n",
    "        total_cost += 6\n",
    "    elif units <= 300:\n",
    "        total_cost += 10\n",
    "    else:\n",
    "        total_cost += 20\n",
    "        \n",
    "print(f\"Total electricity bill: {total_cost}\")"
   ]
  },
  {
   "cell_type": "code",
   "execution_count": null,
   "id": "d579bed1-d52e-4e19-bf87-cfa49927f199",
   "metadata": {},
   "outputs": [],
   "source": []
  },
  {
   "cell_type": "markdown",
   "id": "ec4a89f9-5081-4619-92a6-fdabcec63404",
   "metadata": {},
   "source": [
    "### 4. Create a list of numbers from 1 to 100. Use for loop and while loop to calculate the cube of each number and if the cube of that number is divisible by 4 or 5 then append that number in a list and print that list."
   ]
  },
  {
   "cell_type": "code",
   "execution_count": 23,
   "id": "6270f9fd-18f5-4f4b-af81-6708fed4dd60",
   "metadata": {},
   "outputs": [
    {
     "name": "stdout",
     "output_type": "stream",
     "text": [
      "[8, 64, 125, 216, 512, 1000, 1728, 2744, 3375, 4096, 5832, 8000, 10648, 13824, 15625, 17576, 21952, 27000, 32768, 39304, 42875, 46656, 54872, 64000, 74088, 85184, 91125, 97336, 110592, 125000, 140608, 157464, 166375, 175616, 195112, 216000, 238328, 262144, 274625, 287496, 314432, 343000, 373248, 405224, 421875, 438976, 474552, 512000, 551368, 592704, 614125, 636056, 681472, 729000, 778688, 830584, 857375, 884736, 941192, 1000000]\n"
     ]
    }
   ],
   "source": [
    "# using for loop\n",
    "list_of_numbers = list(range(1, 100 + 1))\n",
    "# print(list_of_numbers)\n",
    "\n",
    "# using map\n",
    "list_of_cubes = list(map(lambda x: x**3,list_of_numbers))\n",
    "\n",
    "# using list comprehension\n",
    "result = [i for i in list_of_cubes if i%4 == 0 or i%5 == 0]\n",
    "\n",
    "print(result)"
   ]
  },
  {
   "cell_type": "code",
   "execution_count": 29,
   "id": "cc1b618d-0ece-43ec-99a6-0cf704e52738",
   "metadata": {},
   "outputs": [
    {
     "name": "stdout",
     "output_type": "stream",
     "text": [
      "[8, 64, 125, 216, 512, 1000, 1728, 2744, 3375, 4096, 5832, 8000, 10648, 13824, 15625, 17576, 21952, 27000, 32768, 39304, 42875, 46656, 54872, 64000, 74088, 85184, 91125, 97336, 110592, 125000, 140608, 157464, 166375, 175616, 195112, 216000, 238328, 262144, 274625, 287496, 314432, 343000, 373248, 405224, 421875, 438976, 474552, 512000, 551368, 592704, 614125, 636056, 681472, 729000, 778688, 830584, 857375, 884736, 941192, 1000000]\n"
     ]
    }
   ],
   "source": [
    "# using while loop\n",
    "list_of_numbers = list(range(1, 100 + 1))\n",
    "# print(list_of_numbers)\n",
    "\n",
    "list_of_cubes = []\n",
    "i = 0\n",
    "\n",
    "while i < len(list_of_numbers):\n",
    "    list_of_cubes.append(list_of_numbers[i]**3)\n",
    "    i += 1\n",
    "\n",
    "j = 0\n",
    "result = []\n",
    "while j < len(list_of_cubes):\n",
    "    if list_of_cubes[j]%4 == 0 or list_of_cubes[j]%5 == 0:\n",
    "        result.append(list_of_cubes[j])\n",
    "    j += 1\n",
    "\n",
    "print(result)"
   ]
  },
  {
   "cell_type": "code",
   "execution_count": null,
   "id": "e1d3b91e-ca3c-4901-a8b8-f727816f28aa",
   "metadata": {},
   "outputs": [],
   "source": []
  },
  {
   "cell_type": "markdown",
   "id": "24fc8626-6c74-4468-8825-fcd6ef76f229",
   "metadata": {},
   "source": [
    "### 5. Write a program to filter count vowels in the below-given string.\n",
    "#### string = \"I want to become a data scientist\""
   ]
  },
  {
   "cell_type": "code",
   "execution_count": 42,
   "id": "415bbe5a-4fb1-4bfb-882a-d1116e5f1251",
   "metadata": {},
   "outputs": [
    {
     "name": "stdout",
     "output_type": "stream",
     "text": [
      "Count of Vowels in the string (using filter):  12\n",
      "Count of Vowels in the string (using for loop):  12\n"
     ]
    }
   ],
   "source": [
    "string = \"I want to become a data scientist\".lower()\n",
    "\n",
    "def isVowel(letter):\n",
    "    if letter == 'a' or letter == 'e' or letter == 'i' or letter == 'o' or letter == 'u':\n",
    "        return True\n",
    "    return False\n",
    "\n",
    "\n",
    "count_vowels = 0\n",
    "# using for loop\n",
    "for i in string:\n",
    "    if isVowel(i):\n",
    "        count_vowels += 1\n",
    "\n",
    "# using filter\n",
    "filtered_list = list(filter(isVowel, list(string)))\n",
    "\n",
    "print(\"Count of Vowels in the string (using filter): \", len(filtered_list))\n",
    "print(\"Count of Vowels in the string (using for loop): \", count_vowels)"
   ]
  },
  {
   "cell_type": "code",
   "execution_count": null,
   "id": "98519d69-6561-4ec8-a4b8-2846aaff7572",
   "metadata": {},
   "outputs": [],
   "source": []
  }
 ],
 "metadata": {
  "kernelspec": {
   "display_name": "Python 3 (ipykernel)",
   "language": "python",
   "name": "python3"
  },
  "language_info": {
   "codemirror_mode": {
    "name": "ipython",
    "version": 3
   },
   "file_extension": ".py",
   "mimetype": "text/x-python",
   "name": "python",
   "nbconvert_exporter": "python",
   "pygments_lexer": "ipython3",
   "version": "3.10.8"
  }
 },
 "nbformat": 4,
 "nbformat_minor": 5
}
